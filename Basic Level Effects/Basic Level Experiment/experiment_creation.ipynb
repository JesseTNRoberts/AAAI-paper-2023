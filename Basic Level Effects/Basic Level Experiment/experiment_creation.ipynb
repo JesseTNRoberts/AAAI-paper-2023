{
 "cells": [
  {
   "cell_type": "code",
   "execution_count": 162,
   "metadata": {},
   "outputs": [],
   "source": [
    "import pandas as pd"
   ]
  },
  {
   "cell_type": "code",
   "execution_count": 163,
   "metadata": {},
   "outputs": [],
   "source": [
    "initial_data = pd.read_csv('taxonomic_data.csv')"
   ]
  },
  {
   "cell_type": "code",
   "execution_count": 164,
   "metadata": {},
   "outputs": [
    {
     "data": {
      "text/html": [
       "<div>\n",
       "<style scoped>\n",
       "    .dataframe tbody tr th:only-of-type {\n",
       "        vertical-align: middle;\n",
       "    }\n",
       "\n",
       "    .dataframe tbody tr th {\n",
       "        vertical-align: top;\n",
       "    }\n",
       "\n",
       "    .dataframe thead th {\n",
       "        text-align: right;\n",
       "    }\n",
       "</style>\n",
       "<table border=\"1\" class=\"dataframe\">\n",
       "  <thead>\n",
       "    <tr style=\"text-align: right;\">\n",
       "      <th></th>\n",
       "      <th>Superordinate</th>\n",
       "      <th>Basic Level</th>\n",
       "      <th>Subordinate_1</th>\n",
       "      <th>Subordinate_2</th>\n",
       "    </tr>\n",
       "  </thead>\n",
       "  <tbody>\n",
       "    <tr>\n",
       "      <th>0</th>\n",
       "      <td>Musical Instrument</td>\n",
       "      <td>Guitar</td>\n",
       "      <td>Folk guitar</td>\n",
       "      <td>Classical guitar</td>\n",
       "    </tr>\n",
       "    <tr>\n",
       "      <th>1</th>\n",
       "      <td>Musical Instrument</td>\n",
       "      <td>Piano</td>\n",
       "      <td>Grand piano</td>\n",
       "      <td>Upright piano</td>\n",
       "    </tr>\n",
       "    <tr>\n",
       "      <th>2</th>\n",
       "      <td>Musical Instrument</td>\n",
       "      <td>Drum</td>\n",
       "      <td>Kettle drum</td>\n",
       "      <td>Base drum</td>\n",
       "    </tr>\n",
       "    <tr>\n",
       "      <th>3</th>\n",
       "      <td>Fruit</td>\n",
       "      <td>Apple</td>\n",
       "      <td>Delicious apple</td>\n",
       "      <td>Mackintosh apple</td>\n",
       "    </tr>\n",
       "    <tr>\n",
       "      <th>4</th>\n",
       "      <td>Fruit</td>\n",
       "      <td>Peach</td>\n",
       "      <td>Freestone peach</td>\n",
       "      <td>Cling peach</td>\n",
       "    </tr>\n",
       "  </tbody>\n",
       "</table>\n",
       "</div>"
      ],
      "text/plain": [
       "        Superordinate Basic Level    Subordinate_1     Subordinate_2\n",
       "0  Musical Instrument      Guitar      Folk guitar  Classical guitar\n",
       "1  Musical Instrument       Piano      Grand piano     Upright piano\n",
       "2  Musical Instrument        Drum      Kettle drum         Base drum\n",
       "3               Fruit       Apple  Delicious apple  Mackintosh apple\n",
       "4               Fruit       Peach  Freestone peach       Cling peach"
      ]
     },
     "execution_count": 164,
     "metadata": {},
     "output_type": "execute_result"
    }
   ],
   "source": [
    "initial_data.head()"
   ]
  },
  {
   "cell_type": "code",
   "execution_count": 165,
   "metadata": {},
   "outputs": [
    {
     "name": "stdout",
     "output_type": "stream",
     "text": [
      "         Superordinate  Basic Level             Subordinate\n",
      "0                 Bird     Cardinal         Easter cardinal\n",
      "1                 Bird     Cardinal    Grey tailed cardinal\n",
      "2                 Bird        Eagle              Bald eagle\n",
      "3                 Bird        Eagle            Golden eagle\n",
      "4                 Bird      Sparrow            Song sparrow\n",
      "5                 Bird      Sparrow           Field sparrow\n",
      "6             Clothing        Pants                   Levis\n",
      "7             Clothing        Pants       Double knit pants\n",
      "8             Clothing        Shirt             Dress shirt\n",
      "9             Clothing        Shirt              Knit shirt\n",
      "10            Clothing        Socks              Knee socks\n",
      "11            Clothing        Socks             Ankle socks\n",
      "12                Fish         Bass                Sea bass\n",
      "13                Fish         Bass            Striped bass\n",
      "14                Fish       Salmon         Blueback salmon\n",
      "15                Fish       Salmon          Chinook salmon\n",
      "16                Fish        Trout           Rainbow trout\n",
      "17                Fish        Trout         Steelhead trout\n",
      "18               Fruit        Apple         Delicious apple\n",
      "19               Fruit        Apple        Mackintosh apple\n",
      "20               Fruit       Grapes          Concord grapes\n",
      "21               Fruit       Grapes   Green seedless grapes\n",
      "22               Fruit        Peach         Freestone peach\n",
      "23               Fruit        Peach             Cling peach\n",
      "24           Furniture        Chair           Kitchen chair\n",
      "25           Furniture        Chair       Living room chair\n",
      "26           Furniture         Lamp              Floor lamp\n",
      "27           Furniture         Lamp               Desk lamp\n",
      "28           Furniture        Table           Kitchen table\n",
      "29           Furniture        Table       Dining room table\n",
      "30  Musical Instrument         Drum             Kettle drum\n",
      "31  Musical Instrument         Drum               Base drum\n",
      "32  Musical Instrument       Guitar             Folk guitar\n",
      "33  Musical Instrument       Guitar        Classical guitar\n",
      "34  Musical Instrument        Piano             Grand piano\n",
      "35  Musical Instrument        Piano           Upright piano\n",
      "36                Tool       Hammer        Ball-peen hammer\n",
      "37                Tool       Hammer             Claw hammer\n",
      "38                Tool          Saw           Hack hand saw\n",
      "39                Tool          Saw  Cross-cutting hand saw\n",
      "40                Tool  Screwdriver    Phillips screwdriver\n",
      "41                Tool  Screwdriver     Regular screwdriver\n",
      "42                Tree        Birch             River birch\n",
      "43                Tree        Birch             White birch\n",
      "44                Tree        Maple            Silver maple\n",
      "45                Tree        Maple             Sugar maple\n",
      "46                Tree          Oak               White oak\n",
      "47                Tree          Oak                 Red oak\n",
      "48             Vehicle          Bus                City bus\n",
      "49             Vehicle          Bus       Cross country bus\n",
      "50             Vehicle          Car              Sports car\n",
      "51             Vehicle          Car     Four door sedan car\n",
      "52             Vehicle        Truck           Pick up truck\n",
      "53             Vehicle        Truck   Tractor-trailer truck\n"
     ]
    }
   ],
   "source": [
    "\n",
    "# Melt the DataFrame to combine 'Subordinate_1' and 'Subordinate_2' columns\n",
    "melted_data = pd.melt(initial_data, id_vars=['Superordinate', 'Basic Level'], value_vars=['Subordinate_1', 'Subordinate_2'], value_name='Subordinate')\n",
    "\n",
    "# Drop the 'variable' column, as it is no longer needed\n",
    "melted_data = melted_data.drop(columns='variable')\n",
    "\n",
    "# Sort the DataFrame based on 'Superordinate' and 'Basic Level'\n",
    "result_data = melted_data.sort_values(by=['Superordinate', 'Basic Level']).reset_index(drop=True)\n",
    "\n",
    "print(result_data)\n"
   ]
  },
  {
   "cell_type": "code",
   "execution_count": 166,
   "metadata": {},
   "outputs": [
    {
     "data": {
      "text/plain": [
       "{'Bird',\n",
       " 'Clothing',\n",
       " 'Fish',\n",
       " 'Fruit',\n",
       " 'Furniture',\n",
       " 'Musical Instrument',\n",
       " 'Tool',\n",
       " 'Tree',\n",
       " 'Vehicle'}"
      ]
     },
     "execution_count": 166,
     "metadata": {},
     "output_type": "execute_result"
    }
   ],
   "source": [
    "superordinate_set = set(result_data['Superordinate'])\n",
    "superordinate_set"
   ]
  },
  {
   "cell_type": "code",
   "execution_count": 167,
   "metadata": {},
   "outputs": [
    {
     "data": {
      "text/plain": [
       "{'Ankle socks',\n",
       " 'Bald eagle',\n",
       " 'Ball-peen hammer',\n",
       " 'Base drum',\n",
       " 'Blueback salmon',\n",
       " 'Chinook salmon',\n",
       " 'City bus',\n",
       " 'Classical guitar',\n",
       " 'Claw hammer',\n",
       " 'Cling peach',\n",
       " 'Concord grapes',\n",
       " 'Cross country bus',\n",
       " 'Cross-cutting hand saw',\n",
       " 'Delicious apple',\n",
       " 'Desk lamp',\n",
       " 'Dining room table',\n",
       " 'Double knit pants',\n",
       " 'Dress shirt',\n",
       " 'Easter cardinal',\n",
       " 'Field sparrow',\n",
       " 'Floor lamp',\n",
       " 'Folk guitar',\n",
       " 'Four door sedan car',\n",
       " 'Freestone peach',\n",
       " 'Golden eagle',\n",
       " 'Grand piano',\n",
       " 'Green seedless grapes',\n",
       " 'Grey tailed cardinal',\n",
       " 'Hack hand saw',\n",
       " 'Kettle drum',\n",
       " 'Kitchen chair',\n",
       " 'Kitchen table',\n",
       " 'Knee socks',\n",
       " 'Knit shirt',\n",
       " 'Levis',\n",
       " 'Living room chair',\n",
       " 'Mackintosh apple',\n",
       " 'Phillips screwdriver',\n",
       " 'Pick up truck',\n",
       " 'Rainbow trout',\n",
       " 'Red oak',\n",
       " 'Regular screwdriver',\n",
       " 'River birch',\n",
       " 'Sea bass',\n",
       " 'Silver maple',\n",
       " 'Song sparrow',\n",
       " 'Sports car',\n",
       " 'Steelhead trout',\n",
       " 'Striped bass',\n",
       " 'Sugar maple',\n",
       " 'Tractor-trailer truck',\n",
       " 'Upright piano',\n",
       " 'White birch',\n",
       " 'White oak'}"
      ]
     },
     "execution_count": 167,
     "metadata": {},
     "output_type": "execute_result"
    }
   ],
   "source": [
    "subordinate_set = set(result_data['Subordinate'])\n",
    "subordinate_set"
   ]
  },
  {
   "cell_type": "code",
   "execution_count": 168,
   "metadata": {},
   "outputs": [
    {
     "data": {
      "text/plain": [
       "{'Apple',\n",
       " 'Bass',\n",
       " 'Birch',\n",
       " 'Bus',\n",
       " 'Car',\n",
       " 'Cardinal',\n",
       " 'Chair',\n",
       " 'Drum',\n",
       " 'Eagle',\n",
       " 'Grapes',\n",
       " 'Guitar',\n",
       " 'Hammer',\n",
       " 'Lamp',\n",
       " 'Maple',\n",
       " 'Oak',\n",
       " 'Pants',\n",
       " 'Peach',\n",
       " 'Piano',\n",
       " 'Salmon',\n",
       " 'Saw',\n",
       " 'Screwdriver',\n",
       " 'Shirt',\n",
       " 'Socks',\n",
       " 'Sparrow',\n",
       " 'Table',\n",
       " 'Trout',\n",
       " 'Truck'}"
      ]
     },
     "execution_count": 168,
     "metadata": {},
     "output_type": "execute_result"
    }
   ],
   "source": [
    "basic_set = set(result_data['Basic Level'])\n",
    "basic_set"
   ]
  },
  {
   "cell_type": "code",
   "execution_count": 273,
   "metadata": {},
   "outputs": [],
   "source": [
    "import random"
   ]
  },
  {
   "cell_type": "code",
   "execution_count": 274,
   "metadata": {},
   "outputs": [
    {
     "data": {
      "text/html": [
       "<div>\n",
       "<style scoped>\n",
       "    .dataframe tbody tr th:only-of-type {\n",
       "        vertical-align: middle;\n",
       "    }\n",
       "\n",
       "    .dataframe tbody tr th {\n",
       "        vertical-align: top;\n",
       "    }\n",
       "\n",
       "    .dataframe thead th {\n",
       "        text-align: right;\n",
       "    }\n",
       "</style>\n",
       "<table border=\"1\" class=\"dataframe\">\n",
       "  <thead>\n",
       "    <tr style=\"text-align: right;\">\n",
       "      <th></th>\n",
       "      <th>Priming</th>\n",
       "      <th>Subordinate</th>\n",
       "      <th>Predict</th>\n",
       "    </tr>\n",
       "  </thead>\n",
       "  <tbody>\n",
       "    <tr>\n",
       "      <th>0</th>\n",
       "      <td>Bird.</td>\n",
       "      <td>Easter cardinal</td>\n",
       "      <td>Bird</td>\n",
       "    </tr>\n",
       "    <tr>\n",
       "      <th>1</th>\n",
       "      <td>Bird.</td>\n",
       "      <td>Grey tailed cardinal</td>\n",
       "      <td>Bird</td>\n",
       "    </tr>\n",
       "    <tr>\n",
       "      <th>2</th>\n",
       "      <td>Bird.</td>\n",
       "      <td>Bald eagle</td>\n",
       "      <td>Bird</td>\n",
       "    </tr>\n",
       "    <tr>\n",
       "      <th>3</th>\n",
       "      <td>Bird.</td>\n",
       "      <td>Golden eagle</td>\n",
       "      <td>Bird</td>\n",
       "    </tr>\n",
       "    <tr>\n",
       "      <th>4</th>\n",
       "      <td>Bird.</td>\n",
       "      <td>Song sparrow</td>\n",
       "      <td>Bird</td>\n",
       "    </tr>\n",
       "  </tbody>\n",
       "</table>\n",
       "</div>"
      ],
      "text/plain": [
       "  Priming           Subordinate Predict\n",
       "0  Bird.        Easter cardinal    Bird\n",
       "1  Bird.   Grey tailed cardinal    Bird\n",
       "2  Bird.             Bald eagle    Bird\n",
       "3  Bird.           Golden eagle    Bird\n",
       "4  Bird.           Song sparrow    Bird"
      ]
     },
     "execution_count": 274,
     "metadata": {},
     "output_type": "execute_result"
    }
   ],
   "source": [
    "exp_data = pd.DataFrame()\n",
    "exp_data['Priming'] = result_data['Superordinate'].apply(lambda input: input + '. ')\n",
    "exp_data['Subordinate'] = result_data['Subordinate']\n",
    "exp_data['Predict'] = result_data['Superordinate']\n",
    "\n",
    "exp_data.head()"
   ]
  },
  {
   "cell_type": "code",
   "execution_count": 276,
   "metadata": {},
   "outputs": [],
   "source": [
    "def getAlternateSuper(item):\n",
    "    choice = random.choice(tuple(superordinate_set)) + '. '\n",
    "    while(choice == item):\n",
    "        print('hi!')\n",
    "        choice = random.choice(tuple(superordinate_set))+ '. '\n",
    "    return choice"
   ]
  },
  {
   "cell_type": "code",
   "execution_count": null,
   "metadata": {},
   "outputs": [],
   "source": []
  },
  {
   "cell_type": "code",
   "execution_count": 277,
   "metadata": {},
   "outputs": [
    {
     "name": "stdout",
     "output_type": "stream",
     "text": [
      "hi!\n",
      "hi!\n",
      "hi!\n",
      "hi!\n",
      "hi!\n",
      "hi!\n",
      "hi!\n",
      "hi!\n",
      "hi!\n",
      "hi!\n"
     ]
    },
    {
     "data": {
      "text/html": [
       "<div>\n",
       "<style scoped>\n",
       "    .dataframe tbody tr th:only-of-type {\n",
       "        vertical-align: middle;\n",
       "    }\n",
       "\n",
       "    .dataframe tbody tr th {\n",
       "        vertical-align: top;\n",
       "    }\n",
       "\n",
       "    .dataframe thead th {\n",
       "        text-align: right;\n",
       "    }\n",
       "</style>\n",
       "<table border=\"1\" class=\"dataframe\">\n",
       "  <thead>\n",
       "    <tr style=\"text-align: right;\">\n",
       "      <th></th>\n",
       "      <th>Priming</th>\n",
       "      <th>Subordinate</th>\n",
       "      <th>Predict</th>\n",
       "    </tr>\n",
       "  </thead>\n",
       "  <tbody>\n",
       "    <tr>\n",
       "      <th>0</th>\n",
       "      <td>Furniture.</td>\n",
       "      <td>Easter cardinal</td>\n",
       "      <td>Bird</td>\n",
       "    </tr>\n",
       "    <tr>\n",
       "      <th>1</th>\n",
       "      <td>Tool.</td>\n",
       "      <td>Grey tailed cardinal</td>\n",
       "      <td>Bird</td>\n",
       "    </tr>\n",
       "    <tr>\n",
       "      <th>2</th>\n",
       "      <td>Furniture.</td>\n",
       "      <td>Bald eagle</td>\n",
       "      <td>Bird</td>\n",
       "    </tr>\n",
       "    <tr>\n",
       "      <th>3</th>\n",
       "      <td>Tool.</td>\n",
       "      <td>Golden eagle</td>\n",
       "      <td>Bird</td>\n",
       "    </tr>\n",
       "    <tr>\n",
       "      <th>4</th>\n",
       "      <td>Fruit.</td>\n",
       "      <td>Song sparrow</td>\n",
       "      <td>Bird</td>\n",
       "    </tr>\n",
       "  </tbody>\n",
       "</table>\n",
       "</div>"
      ],
      "text/plain": [
       "       Priming           Subordinate Predict\n",
       "0  Furniture.        Easter cardinal    Bird\n",
       "1       Tool.   Grey tailed cardinal    Bird\n",
       "2  Furniture.             Bald eagle    Bird\n",
       "3       Tool.           Golden eagle    Bird\n",
       "4      Fruit.           Song sparrow    Bird"
      ]
     },
     "execution_count": 277,
     "metadata": {},
     "output_type": "execute_result"
    }
   ],
   "source": [
    "false_priming_exp = exp_data.copy()\n",
    "false_priming_exp['Priming'] = exp_data['Priming'].apply(getAlternateSuper)\n",
    "false_priming_exp['Predict'] = result_data['Superordinate']\n",
    "false_priming_exp.head()"
   ]
  },
  {
   "cell_type": "code",
   "execution_count": 278,
   "metadata": {},
   "outputs": [
    {
     "data": {
      "text/html": [
       "<div>\n",
       "<style scoped>\n",
       "    .dataframe tbody tr th:only-of-type {\n",
       "        vertical-align: middle;\n",
       "    }\n",
       "\n",
       "    .dataframe tbody tr th {\n",
       "        vertical-align: top;\n",
       "    }\n",
       "\n",
       "    .dataframe thead th {\n",
       "        text-align: right;\n",
       "    }\n",
       "</style>\n",
       "<table border=\"1\" class=\"dataframe\">\n",
       "  <thead>\n",
       "    <tr style=\"text-align: right;\">\n",
       "      <th></th>\n",
       "      <th>Priming</th>\n",
       "      <th>Subordinate</th>\n",
       "      <th>Predict</th>\n",
       "    </tr>\n",
       "  </thead>\n",
       "  <tbody>\n",
       "    <tr>\n",
       "      <th>0</th>\n",
       "      <td>Furniture.</td>\n",
       "      <td>Easter cardinal</td>\n",
       "      <td>Bird</td>\n",
       "    </tr>\n",
       "    <tr>\n",
       "      <th>1</th>\n",
       "      <td>Tool.</td>\n",
       "      <td>Grey tailed cardinal</td>\n",
       "      <td>Bird</td>\n",
       "    </tr>\n",
       "    <tr>\n",
       "      <th>2</th>\n",
       "      <td>Furniture.</td>\n",
       "      <td>Bald eagle</td>\n",
       "      <td>Bird</td>\n",
       "    </tr>\n",
       "    <tr>\n",
       "      <th>3</th>\n",
       "      <td>Tool.</td>\n",
       "      <td>Golden eagle</td>\n",
       "      <td>Bird</td>\n",
       "    </tr>\n",
       "    <tr>\n",
       "      <th>4</th>\n",
       "      <td>Fruit.</td>\n",
       "      <td>Song sparrow</td>\n",
       "      <td>Bird</td>\n",
       "    </tr>\n",
       "  </tbody>\n",
       "</table>\n",
       "</div>"
      ],
      "text/plain": [
       "       Priming           Subordinate Predict\n",
       "0  Furniture.        Easter cardinal    Bird\n",
       "1       Tool.   Grey tailed cardinal    Bird\n",
       "2  Furniture.             Bald eagle    Bird\n",
       "3       Tool.           Golden eagle    Bird\n",
       "4      Fruit.           Song sparrow    Bird"
      ]
     },
     "execution_count": 278,
     "metadata": {},
     "output_type": "execute_result"
    }
   ],
   "source": [
    "false_priming_exp.head()"
   ]
  },
  {
   "cell_type": "code",
   "execution_count": 279,
   "metadata": {},
   "outputs": [],
   "source": [
    "empty_priming = exp_data.copy()\n",
    "empty_priming['Priming'] = exp_data['Priming'].apply(lambda category: \"\")\n",
    "false_priming_exp['Predict'] = result_data['Superordinate']\n"
   ]
  },
  {
   "cell_type": "code",
   "execution_count": 281,
   "metadata": {},
   "outputs": [
    {
     "data": {
      "text/html": [
       "<div>\n",
       "<style scoped>\n",
       "    .dataframe tbody tr th:only-of-type {\n",
       "        vertical-align: middle;\n",
       "    }\n",
       "\n",
       "    .dataframe tbody tr th {\n",
       "        vertical-align: top;\n",
       "    }\n",
       "\n",
       "    .dataframe thead th {\n",
       "        text-align: right;\n",
       "    }\n",
       "</style>\n",
       "<table border=\"1\" class=\"dataframe\">\n",
       "  <thead>\n",
       "    <tr style=\"text-align: right;\">\n",
       "      <th></th>\n",
       "      <th>Priming</th>\n",
       "      <th>Subordinate</th>\n",
       "      <th>Predict</th>\n",
       "    </tr>\n",
       "  </thead>\n",
       "  <tbody>\n",
       "    <tr>\n",
       "      <th>0</th>\n",
       "      <td></td>\n",
       "      <td>Easter cardinal</td>\n",
       "      <td>Bird</td>\n",
       "    </tr>\n",
       "    <tr>\n",
       "      <th>1</th>\n",
       "      <td></td>\n",
       "      <td>Grey tailed cardinal</td>\n",
       "      <td>Bird</td>\n",
       "    </tr>\n",
       "    <tr>\n",
       "      <th>2</th>\n",
       "      <td></td>\n",
       "      <td>Bald eagle</td>\n",
       "      <td>Bird</td>\n",
       "    </tr>\n",
       "    <tr>\n",
       "      <th>3</th>\n",
       "      <td></td>\n",
       "      <td>Golden eagle</td>\n",
       "      <td>Bird</td>\n",
       "    </tr>\n",
       "    <tr>\n",
       "      <th>4</th>\n",
       "      <td></td>\n",
       "      <td>Song sparrow</td>\n",
       "      <td>Bird</td>\n",
       "    </tr>\n",
       "  </tbody>\n",
       "</table>\n",
       "</div>"
      ],
      "text/plain": [
       "  Priming           Subordinate Predict\n",
       "0               Easter cardinal    Bird\n",
       "1          Grey tailed cardinal    Bird\n",
       "2                    Bald eagle    Bird\n",
       "3                  Golden eagle    Bird\n",
       "4                  Song sparrow    Bird"
      ]
     },
     "execution_count": 281,
     "metadata": {},
     "output_type": "execute_result"
    }
   ],
   "source": [
    "empty_priming.head()"
   ]
  },
  {
   "cell_type": "code",
   "execution_count": 282,
   "metadata": {},
   "outputs": [
    {
     "data": {
      "text/html": [
       "<div>\n",
       "<style scoped>\n",
       "    .dataframe tbody tr th:only-of-type {\n",
       "        vertical-align: middle;\n",
       "    }\n",
       "\n",
       "    .dataframe tbody tr th {\n",
       "        vertical-align: top;\n",
       "    }\n",
       "\n",
       "    .dataframe thead th {\n",
       "        text-align: right;\n",
       "    }\n",
       "</style>\n",
       "<table border=\"1\" class=\"dataframe\">\n",
       "  <thead>\n",
       "    <tr style=\"text-align: right;\">\n",
       "      <th></th>\n",
       "      <th>Priming</th>\n",
       "      <th>Subordinate</th>\n",
       "      <th>Predict</th>\n",
       "      <th>Right</th>\n",
       "    </tr>\n",
       "  </thead>\n",
       "  <tbody>\n",
       "    <tr>\n",
       "      <th>0</th>\n",
       "      <td>Bird.</td>\n",
       "      <td>Easter cardinal</td>\n",
       "      <td>Bird</td>\n",
       "      <td>1</td>\n",
       "    </tr>\n",
       "    <tr>\n",
       "      <th>1</th>\n",
       "      <td>Bird.</td>\n",
       "      <td>Grey tailed cardinal</td>\n",
       "      <td>Bird</td>\n",
       "      <td>1</td>\n",
       "    </tr>\n",
       "    <tr>\n",
       "      <th>2</th>\n",
       "      <td>Bird.</td>\n",
       "      <td>Bald eagle</td>\n",
       "      <td>Bird</td>\n",
       "      <td>1</td>\n",
       "    </tr>\n",
       "    <tr>\n",
       "      <th>3</th>\n",
       "      <td>Bird.</td>\n",
       "      <td>Golden eagle</td>\n",
       "      <td>Bird</td>\n",
       "      <td>1</td>\n",
       "    </tr>\n",
       "    <tr>\n",
       "      <th>4</th>\n",
       "      <td>Bird.</td>\n",
       "      <td>Song sparrow</td>\n",
       "      <td>Bird</td>\n",
       "      <td>1</td>\n",
       "    </tr>\n",
       "  </tbody>\n",
       "</table>\n",
       "</div>"
      ],
      "text/plain": [
       "  Priming           Subordinate Predict  Right\n",
       "0  Bird.        Easter cardinal    Bird      1\n",
       "1  Bird.   Grey tailed cardinal    Bird      1\n",
       "2  Bird.             Bald eagle    Bird      1\n",
       "3  Bird.           Golden eagle    Bird      1\n",
       "4  Bird.           Song sparrow    Bird      1"
      ]
     },
     "execution_count": 282,
     "metadata": {},
     "output_type": "execute_result"
    }
   ],
   "source": [
    "exp_data.head()\n",
    "exp_data['Right'] = 1\n",
    "exp_data.head()"
   ]
  },
  {
   "cell_type": "code",
   "execution_count": 283,
   "metadata": {},
   "outputs": [],
   "source": [
    "false_priming_exp['Right'] = -1\n",
    "empty_priming['Right'] = 0"
   ]
  },
  {
   "cell_type": "code",
   "execution_count": 284,
   "metadata": {},
   "outputs": [],
   "source": [
    "entire_super_exp = pd.concat([empty_priming,exp_data, false_priming_exp])\n"
   ]
  },
  {
   "cell_type": "code",
   "execution_count": 285,
   "metadata": {},
   "outputs": [],
   "source": [
    "entire_super_exp['Subordinate'] = entire_super_exp['Subordinate'].apply(lambda input: input + ' is a type of ')\n",
    "entire_super_exp['Predict'] = entire_super_exp['Predict'].apply(lambda input: input + '.')\n",
    "entire_super_exp = entire_super_exp.sort_values(by=['Subordinate', 'Right'])\n",
    "\n",
    "entire_super_exp = entire_super_exp.set_index('Subordinate')\n"
   ]
  },
  {
   "cell_type": "code",
   "execution_count": 325,
   "metadata": {},
   "outputs": [],
   "source": [
    "entire_super_exp.to_csv('Superordinate_experiment.csv')"
   ]
  },
  {
   "cell_type": "code",
   "execution_count": 286,
   "metadata": {},
   "outputs": [
    {
     "data": {
      "text/html": [
       "<div>\n",
       "<style scoped>\n",
       "    .dataframe tbody tr th:only-of-type {\n",
       "        vertical-align: middle;\n",
       "    }\n",
       "\n",
       "    .dataframe tbody tr th {\n",
       "        vertical-align: top;\n",
       "    }\n",
       "\n",
       "    .dataframe thead th {\n",
       "        text-align: right;\n",
       "    }\n",
       "</style>\n",
       "<table border=\"1\" class=\"dataframe\">\n",
       "  <thead>\n",
       "    <tr style=\"text-align: right;\">\n",
       "      <th></th>\n",
       "      <th>Priming</th>\n",
       "      <th>Predict</th>\n",
       "      <th>Right</th>\n",
       "    </tr>\n",
       "    <tr>\n",
       "      <th>Subordinate</th>\n",
       "      <th></th>\n",
       "      <th></th>\n",
       "      <th></th>\n",
       "    </tr>\n",
       "  </thead>\n",
       "  <tbody>\n",
       "    <tr>\n",
       "      <th>Ankle socks is a type of</th>\n",
       "      <td>Fish.</td>\n",
       "      <td>Clothing.</td>\n",
       "      <td>-1</td>\n",
       "    </tr>\n",
       "    <tr>\n",
       "      <th>Ankle socks is a type of</th>\n",
       "      <td></td>\n",
       "      <td>Clothing.</td>\n",
       "      <td>0</td>\n",
       "    </tr>\n",
       "    <tr>\n",
       "      <th>Ankle socks is a type of</th>\n",
       "      <td>Clothing.</td>\n",
       "      <td>Clothing.</td>\n",
       "      <td>1</td>\n",
       "    </tr>\n",
       "    <tr>\n",
       "      <th>Bald eagle is a type of</th>\n",
       "      <td>Furniture.</td>\n",
       "      <td>Bird.</td>\n",
       "      <td>-1</td>\n",
       "    </tr>\n",
       "    <tr>\n",
       "      <th>Bald eagle is a type of</th>\n",
       "      <td></td>\n",
       "      <td>Bird.</td>\n",
       "      <td>0</td>\n",
       "    </tr>\n",
       "  </tbody>\n",
       "</table>\n",
       "</div>"
      ],
      "text/plain": [
       "                               Priming    Predict  Right\n",
       "Subordinate                                             \n",
       "Ankle socks is a type of        Fish.   Clothing.     -1\n",
       "Ankle socks is a type of                Clothing.      0\n",
       "Ankle socks is a type of    Clothing.   Clothing.      1\n",
       "Bald eagle is a type of    Furniture.       Bird.     -1\n",
       "Bald eagle is a type of                     Bird.      0"
      ]
     },
     "execution_count": 286,
     "metadata": {},
     "output_type": "execute_result"
    }
   ],
   "source": [
    "entire_super_exp.head()"
   ]
  },
  {
   "cell_type": "code",
   "execution_count": 327,
   "metadata": {},
   "outputs": [],
   "source": [
    "exp_data_basic = pd.DataFrame()\n",
    "exp_data_basic['Priming'] = result_data['Basic Level'].apply(lambda input: input + '. ')\n",
    "exp_data_basic['Subordinate'] = result_data['Subordinate']\n",
    "exp_data_basic['Predict'] = result_data['Basic Level'].apply(lambda input: input + '. ')\n",
    "\n"
   ]
  },
  {
   "cell_type": "code",
   "execution_count": 328,
   "metadata": {},
   "outputs": [
    {
     "data": {
      "text/html": [
       "<div>\n",
       "<style scoped>\n",
       "    .dataframe tbody tr th:only-of-type {\n",
       "        vertical-align: middle;\n",
       "    }\n",
       "\n",
       "    .dataframe tbody tr th {\n",
       "        vertical-align: top;\n",
       "    }\n",
       "\n",
       "    .dataframe thead th {\n",
       "        text-align: right;\n",
       "    }\n",
       "</style>\n",
       "<table border=\"1\" class=\"dataframe\">\n",
       "  <thead>\n",
       "    <tr style=\"text-align: right;\">\n",
       "      <th></th>\n",
       "      <th>Priming</th>\n",
       "      <th>Subordinate</th>\n",
       "      <th>Predict</th>\n",
       "    </tr>\n",
       "  </thead>\n",
       "  <tbody>\n",
       "    <tr>\n",
       "      <th>0</th>\n",
       "      <td>Cardinal.</td>\n",
       "      <td>Easter cardinal</td>\n",
       "      <td>Cardinal.</td>\n",
       "    </tr>\n",
       "    <tr>\n",
       "      <th>1</th>\n",
       "      <td>Cardinal.</td>\n",
       "      <td>Grey tailed cardinal</td>\n",
       "      <td>Cardinal.</td>\n",
       "    </tr>\n",
       "    <tr>\n",
       "      <th>2</th>\n",
       "      <td>Eagle.</td>\n",
       "      <td>Bald eagle</td>\n",
       "      <td>Eagle.</td>\n",
       "    </tr>\n",
       "    <tr>\n",
       "      <th>3</th>\n",
       "      <td>Eagle.</td>\n",
       "      <td>Golden eagle</td>\n",
       "      <td>Eagle.</td>\n",
       "    </tr>\n",
       "    <tr>\n",
       "      <th>4</th>\n",
       "      <td>Sparrow.</td>\n",
       "      <td>Song sparrow</td>\n",
       "      <td>Sparrow.</td>\n",
       "    </tr>\n",
       "  </tbody>\n",
       "</table>\n",
       "</div>"
      ],
      "text/plain": [
       "      Priming           Subordinate     Predict\n",
       "0  Cardinal.        Easter cardinal  Cardinal. \n",
       "1  Cardinal.   Grey tailed cardinal  Cardinal. \n",
       "2     Eagle.             Bald eagle     Eagle. \n",
       "3     Eagle.           Golden eagle     Eagle. \n",
       "4   Sparrow.           Song sparrow   Sparrow. "
      ]
     },
     "execution_count": 328,
     "metadata": {},
     "output_type": "execute_result"
    }
   ],
   "source": [
    "exp_data_basic.head()"
   ]
  },
  {
   "cell_type": "code",
   "execution_count": 329,
   "metadata": {},
   "outputs": [],
   "source": [
    "super_for_basic = {y : x for x, y in zip(result_data['Superordinate'].apply(lambda input: input + '. '), result_data['Basic Level'].apply(lambda input: input + '. '))}\n",
    "\n",
    "def getAlternateBasic(item):\n",
    "    choice = random.choice(tuple(basic_set)) + '. '\n",
    "    while(super_for_basic[choice] == super_for_basic[item]):\n",
    "        #print('hi!')\n",
    "        choice = random.choice(tuple(basic_set)) + '. '\n",
    "    return choice"
   ]
  },
  {
   "cell_type": "code",
   "execution_count": 330,
   "metadata": {},
   "outputs": [
    {
     "data": {
      "text/html": [
       "<div>\n",
       "<style scoped>\n",
       "    .dataframe tbody tr th:only-of-type {\n",
       "        vertical-align: middle;\n",
       "    }\n",
       "\n",
       "    .dataframe tbody tr th {\n",
       "        vertical-align: top;\n",
       "    }\n",
       "\n",
       "    .dataframe thead th {\n",
       "        text-align: right;\n",
       "    }\n",
       "</style>\n",
       "<table border=\"1\" class=\"dataframe\">\n",
       "  <thead>\n",
       "    <tr style=\"text-align: right;\">\n",
       "      <th></th>\n",
       "      <th>Priming</th>\n",
       "      <th>Subordinate</th>\n",
       "      <th>Predict</th>\n",
       "    </tr>\n",
       "  </thead>\n",
       "  <tbody>\n",
       "    <tr>\n",
       "      <th>0</th>\n",
       "      <td>Cardinal.</td>\n",
       "      <td>Easter cardinal</td>\n",
       "      <td>Cardinal.</td>\n",
       "    </tr>\n",
       "    <tr>\n",
       "      <th>1</th>\n",
       "      <td>Cardinal.</td>\n",
       "      <td>Grey tailed cardinal</td>\n",
       "      <td>Cardinal.</td>\n",
       "    </tr>\n",
       "    <tr>\n",
       "      <th>2</th>\n",
       "      <td>Eagle.</td>\n",
       "      <td>Bald eagle</td>\n",
       "      <td>Eagle.</td>\n",
       "    </tr>\n",
       "    <tr>\n",
       "      <th>3</th>\n",
       "      <td>Eagle.</td>\n",
       "      <td>Golden eagle</td>\n",
       "      <td>Eagle.</td>\n",
       "    </tr>\n",
       "    <tr>\n",
       "      <th>4</th>\n",
       "      <td>Sparrow.</td>\n",
       "      <td>Song sparrow</td>\n",
       "      <td>Sparrow.</td>\n",
       "    </tr>\n",
       "  </tbody>\n",
       "</table>\n",
       "</div>"
      ],
      "text/plain": [
       "      Priming           Subordinate     Predict\n",
       "0  Cardinal.        Easter cardinal  Cardinal. \n",
       "1  Cardinal.   Grey tailed cardinal  Cardinal. \n",
       "2     Eagle.             Bald eagle     Eagle. \n",
       "3     Eagle.           Golden eagle     Eagle. \n",
       "4   Sparrow.           Song sparrow   Sparrow. "
      ]
     },
     "execution_count": 330,
     "metadata": {},
     "output_type": "execute_result"
    }
   ],
   "source": [
    "exp_data_basic.head()"
   ]
  },
  {
   "cell_type": "code",
   "execution_count": 331,
   "metadata": {},
   "outputs": [],
   "source": [
    "false_priming_exp_basic = exp_data_basic.copy()\n",
    "false_priming_exp_basic['Priming'] = false_priming_exp_basic['Priming'].apply(getAlternateBasic)"
   ]
  },
  {
   "cell_type": "code",
   "execution_count": 332,
   "metadata": {},
   "outputs": [
    {
     "data": {
      "text/html": [
       "<div>\n",
       "<style scoped>\n",
       "    .dataframe tbody tr th:only-of-type {\n",
       "        vertical-align: middle;\n",
       "    }\n",
       "\n",
       "    .dataframe tbody tr th {\n",
       "        vertical-align: top;\n",
       "    }\n",
       "\n",
       "    .dataframe thead th {\n",
       "        text-align: right;\n",
       "    }\n",
       "</style>\n",
       "<table border=\"1\" class=\"dataframe\">\n",
       "  <thead>\n",
       "    <tr style=\"text-align: right;\">\n",
       "      <th></th>\n",
       "      <th>Priming</th>\n",
       "      <th>Subordinate</th>\n",
       "      <th>Predict</th>\n",
       "    </tr>\n",
       "  </thead>\n",
       "  <tbody>\n",
       "    <tr>\n",
       "      <th>0</th>\n",
       "      <td>Peach.</td>\n",
       "      <td>Easter cardinal</td>\n",
       "      <td>Cardinal.</td>\n",
       "    </tr>\n",
       "    <tr>\n",
       "      <th>1</th>\n",
       "      <td>Car.</td>\n",
       "      <td>Grey tailed cardinal</td>\n",
       "      <td>Cardinal.</td>\n",
       "    </tr>\n",
       "    <tr>\n",
       "      <th>2</th>\n",
       "      <td>Socks.</td>\n",
       "      <td>Bald eagle</td>\n",
       "      <td>Eagle.</td>\n",
       "    </tr>\n",
       "    <tr>\n",
       "      <th>3</th>\n",
       "      <td>Piano.</td>\n",
       "      <td>Golden eagle</td>\n",
       "      <td>Eagle.</td>\n",
       "    </tr>\n",
       "    <tr>\n",
       "      <th>4</th>\n",
       "      <td>Hammer.</td>\n",
       "      <td>Song sparrow</td>\n",
       "      <td>Sparrow.</td>\n",
       "    </tr>\n",
       "  </tbody>\n",
       "</table>\n",
       "</div>"
      ],
      "text/plain": [
       "    Priming           Subordinate     Predict\n",
       "0   Peach.        Easter cardinal  Cardinal. \n",
       "1     Car.   Grey tailed cardinal  Cardinal. \n",
       "2   Socks.             Bald eagle     Eagle. \n",
       "3   Piano.           Golden eagle     Eagle. \n",
       "4  Hammer.           Song sparrow   Sparrow. "
      ]
     },
     "execution_count": 332,
     "metadata": {},
     "output_type": "execute_result"
    }
   ],
   "source": [
    "false_priming_exp_basic.head()"
   ]
  },
  {
   "cell_type": "code",
   "execution_count": 333,
   "metadata": {},
   "outputs": [
    {
     "data": {
      "text/html": [
       "<div>\n",
       "<style scoped>\n",
       "    .dataframe tbody tr th:only-of-type {\n",
       "        vertical-align: middle;\n",
       "    }\n",
       "\n",
       "    .dataframe tbody tr th {\n",
       "        vertical-align: top;\n",
       "    }\n",
       "\n",
       "    .dataframe thead th {\n",
       "        text-align: right;\n",
       "    }\n",
       "</style>\n",
       "<table border=\"1\" class=\"dataframe\">\n",
       "  <thead>\n",
       "    <tr style=\"text-align: right;\">\n",
       "      <th></th>\n",
       "      <th>Priming</th>\n",
       "      <th>Subordinate</th>\n",
       "      <th>Predict</th>\n",
       "    </tr>\n",
       "  </thead>\n",
       "  <tbody>\n",
       "    <tr>\n",
       "      <th>0</th>\n",
       "      <td></td>\n",
       "      <td>Easter cardinal</td>\n",
       "      <td>Cardinal.</td>\n",
       "    </tr>\n",
       "    <tr>\n",
       "      <th>1</th>\n",
       "      <td></td>\n",
       "      <td>Grey tailed cardinal</td>\n",
       "      <td>Cardinal.</td>\n",
       "    </tr>\n",
       "    <tr>\n",
       "      <th>2</th>\n",
       "      <td></td>\n",
       "      <td>Bald eagle</td>\n",
       "      <td>Eagle.</td>\n",
       "    </tr>\n",
       "    <tr>\n",
       "      <th>3</th>\n",
       "      <td></td>\n",
       "      <td>Golden eagle</td>\n",
       "      <td>Eagle.</td>\n",
       "    </tr>\n",
       "    <tr>\n",
       "      <th>4</th>\n",
       "      <td></td>\n",
       "      <td>Song sparrow</td>\n",
       "      <td>Sparrow.</td>\n",
       "    </tr>\n",
       "  </tbody>\n",
       "</table>\n",
       "</div>"
      ],
      "text/plain": [
       "  Priming           Subordinate     Predict\n",
       "0               Easter cardinal  Cardinal. \n",
       "1          Grey tailed cardinal  Cardinal. \n",
       "2                    Bald eagle     Eagle. \n",
       "3                  Golden eagle     Eagle. \n",
       "4                  Song sparrow   Sparrow. "
      ]
     },
     "execution_count": 333,
     "metadata": {},
     "output_type": "execute_result"
    }
   ],
   "source": [
    "no_priming_exp = exp_data_basic.copy()\n",
    "no_priming_exp['Priming'] = false_priming_exp['Priming'].apply(lambda input: '')\n",
    "no_priming_exp.head()"
   ]
  },
  {
   "cell_type": "code",
   "execution_count": 334,
   "metadata": {},
   "outputs": [
    {
     "name": "stdout",
     "output_type": "stream",
     "text": [
      "{'Cardinal': 'Bird', 'Eagle': 'Bird', 'Sparrow': 'Bird', 'Pants': 'Clothing', 'Shirt': 'Clothing', 'Socks': 'Clothing', 'Bass': 'Fish', 'Salmon': 'Fish', 'Trout': 'Fish', 'Apple': 'Fruit', 'Grapes': 'Fruit', 'Peach': 'Fruit', 'Chair': 'Furniture', 'Lamp': 'Furniture', 'Table': 'Furniture', 'Drum': 'Musical Instrument', 'Guitar': 'Musical Instrument', 'Piano': 'Musical Instrument', 'Hammer': 'Tool', 'Saw': 'Tool', 'Screwdriver': 'Tool', 'Birch': 'Tree', 'Maple': 'Tree', 'Oak': 'Tree', 'Bus': 'Vehicle', 'Car': 'Vehicle', 'Truck': 'Vehicle'}\n"
     ]
    }
   ],
   "source": [
    "super_for_basic = {y : x for x, y in zip(result_data['Superordinate'], result_data['Basic Level'])}\n",
    "\n",
    "print(super_for_basic)"
   ]
  },
  {
   "cell_type": "code",
   "execution_count": 335,
   "metadata": {},
   "outputs": [
    {
     "data": {
      "text/plain": [
       "'Fruit'"
      ]
     },
     "execution_count": 335,
     "metadata": {},
     "output_type": "execute_result"
    }
   ],
   "source": [
    "super_for_basic['Apple']"
   ]
  },
  {
   "cell_type": "code",
   "execution_count": null,
   "metadata": {},
   "outputs": [],
   "source": []
  },
  {
   "cell_type": "code",
   "execution_count": 336,
   "metadata": {},
   "outputs": [],
   "source": [
    "exp_data_basic['Right'] = 1\n",
    "false_priming_exp_basic['Right'] = -1\n",
    "no_priming_exp['Right'] = 0"
   ]
  },
  {
   "cell_type": "code",
   "execution_count": 317,
   "metadata": {},
   "outputs": [],
   "source": [
    "#exp_data_basic['Priming'] = exp_data_basic['Priming'].apply(lambda input: input + '. ')\n"
   ]
  },
  {
   "cell_type": "code",
   "execution_count": 337,
   "metadata": {},
   "outputs": [],
   "source": [
    "entire_super_exp_basic = pd.concat([exp_data_basic, false_priming_exp_basic, no_priming_exp])"
   ]
  },
  {
   "cell_type": "code",
   "execution_count": 339,
   "metadata": {},
   "outputs": [
    {
     "data": {
      "text/html": [
       "<div>\n",
       "<style scoped>\n",
       "    .dataframe tbody tr th:only-of-type {\n",
       "        vertical-align: middle;\n",
       "    }\n",
       "\n",
       "    .dataframe tbody tr th {\n",
       "        vertical-align: top;\n",
       "    }\n",
       "\n",
       "    .dataframe thead th {\n",
       "        text-align: right;\n",
       "    }\n",
       "</style>\n",
       "<table border=\"1\" class=\"dataframe\">\n",
       "  <thead>\n",
       "    <tr style=\"text-align: right;\">\n",
       "      <th></th>\n",
       "      <th>Priming</th>\n",
       "      <th>Subordinate</th>\n",
       "      <th>Predict</th>\n",
       "      <th>Right</th>\n",
       "    </tr>\n",
       "  </thead>\n",
       "  <tbody>\n",
       "    <tr>\n",
       "      <th>0</th>\n",
       "      <td>Cardinal.</td>\n",
       "      <td>Easter cardinal</td>\n",
       "      <td>Cardinal.</td>\n",
       "      <td>1</td>\n",
       "    </tr>\n",
       "    <tr>\n",
       "      <th>1</th>\n",
       "      <td>Cardinal.</td>\n",
       "      <td>Grey tailed cardinal</td>\n",
       "      <td>Cardinal.</td>\n",
       "      <td>1</td>\n",
       "    </tr>\n",
       "    <tr>\n",
       "      <th>2</th>\n",
       "      <td>Eagle.</td>\n",
       "      <td>Bald eagle</td>\n",
       "      <td>Eagle.</td>\n",
       "      <td>1</td>\n",
       "    </tr>\n",
       "    <tr>\n",
       "      <th>3</th>\n",
       "      <td>Eagle.</td>\n",
       "      <td>Golden eagle</td>\n",
       "      <td>Eagle.</td>\n",
       "      <td>1</td>\n",
       "    </tr>\n",
       "    <tr>\n",
       "      <th>4</th>\n",
       "      <td>Sparrow.</td>\n",
       "      <td>Song sparrow</td>\n",
       "      <td>Sparrow.</td>\n",
       "      <td>1</td>\n",
       "    </tr>\n",
       "  </tbody>\n",
       "</table>\n",
       "</div>"
      ],
      "text/plain": [
       "      Priming           Subordinate     Predict  Right\n",
       "0  Cardinal.        Easter cardinal  Cardinal.       1\n",
       "1  Cardinal.   Grey tailed cardinal  Cardinal.       1\n",
       "2     Eagle.             Bald eagle     Eagle.       1\n",
       "3     Eagle.           Golden eagle     Eagle.       1\n",
       "4   Sparrow.           Song sparrow   Sparrow.       1"
      ]
     },
     "execution_count": 339,
     "metadata": {},
     "output_type": "execute_result"
    }
   ],
   "source": [
    "entire_super_exp_basic.head()"
   ]
  },
  {
   "cell_type": "code",
   "execution_count": 340,
   "metadata": {},
   "outputs": [
    {
     "data": {
      "text/html": [
       "<div>\n",
       "<style scoped>\n",
       "    .dataframe tbody tr th:only-of-type {\n",
       "        vertical-align: middle;\n",
       "    }\n",
       "\n",
       "    .dataframe tbody tr th {\n",
       "        vertical-align: top;\n",
       "    }\n",
       "\n",
       "    .dataframe thead th {\n",
       "        text-align: right;\n",
       "    }\n",
       "</style>\n",
       "<table border=\"1\" class=\"dataframe\">\n",
       "  <thead>\n",
       "    <tr style=\"text-align: right;\">\n",
       "      <th></th>\n",
       "      <th>Priming</th>\n",
       "      <th>Predict</th>\n",
       "      <th>Right</th>\n",
       "    </tr>\n",
       "    <tr>\n",
       "      <th>Subordinate</th>\n",
       "      <th></th>\n",
       "      <th></th>\n",
       "      <th></th>\n",
       "    </tr>\n",
       "  </thead>\n",
       "  <tbody>\n",
       "    <tr>\n",
       "      <th>Ankle socks is a type of</th>\n",
       "      <td>Truck.</td>\n",
       "      <td>Socks.</td>\n",
       "      <td>-1</td>\n",
       "    </tr>\n",
       "    <tr>\n",
       "      <th>Ankle socks is a type of</th>\n",
       "      <td></td>\n",
       "      <td>Socks.</td>\n",
       "      <td>0</td>\n",
       "    </tr>\n",
       "    <tr>\n",
       "      <th>Ankle socks is a type of</th>\n",
       "      <td>Socks.</td>\n",
       "      <td>Socks.</td>\n",
       "      <td>1</td>\n",
       "    </tr>\n",
       "    <tr>\n",
       "      <th>Bald eagle is a type of</th>\n",
       "      <td>Socks.</td>\n",
       "      <td>Eagle.</td>\n",
       "      <td>-1</td>\n",
       "    </tr>\n",
       "    <tr>\n",
       "      <th>Bald eagle is a type of</th>\n",
       "      <td></td>\n",
       "      <td>Eagle.</td>\n",
       "      <td>0</td>\n",
       "    </tr>\n",
       "  </tbody>\n",
       "</table>\n",
       "</div>"
      ],
      "text/plain": [
       "                           Priming  Predict  Right\n",
       "Subordinate                                       \n",
       "Ankle socks is a type of   Truck.   Socks.      -1\n",
       "Ankle socks is a type of            Socks.       0\n",
       "Ankle socks is a type of   Socks.   Socks.       1\n",
       "Bald eagle is a type of    Socks.   Eagle.      -1\n",
       "Bald eagle is a type of             Eagle.       0"
      ]
     },
     "execution_count": 340,
     "metadata": {},
     "output_type": "execute_result"
    }
   ],
   "source": [
    "entire_super_exp_basic['Subordinate'] = entire_super_exp_basic['Subordinate'].apply(lambda input: input + ' is a type of ')\n",
    "entire_super_exp_basic = entire_super_exp_basic.sort_values(by=['Subordinate', 'Right'])\n",
    "\n",
    "entire_super_exp_basic = entire_super_exp_basic.set_index('Subordinate')\n",
    "entire_super_exp_basic.head()\n"
   ]
  },
  {
   "cell_type": "code",
   "execution_count": 342,
   "metadata": {},
   "outputs": [],
   "source": [
    "entire_super_exp_basic.to_csv('basic_level_experiment.csv')"
   ]
  },
  {
   "cell_type": "code",
   "execution_count": 269,
   "metadata": {},
   "outputs": [],
   "source": [
    "entire_super_exp_basic = entire_super_exp_basic.set_index('Subordinate')\n"
   ]
  },
  {
   "cell_type": "code",
   "execution_count": 323,
   "metadata": {},
   "outputs": [
    {
     "data": {
      "text/html": [
       "<div>\n",
       "<style scoped>\n",
       "    .dataframe tbody tr th:only-of-type {\n",
       "        vertical-align: middle;\n",
       "    }\n",
       "\n",
       "    .dataframe tbody tr th {\n",
       "        vertical-align: top;\n",
       "    }\n",
       "\n",
       "    .dataframe thead th {\n",
       "        text-align: right;\n",
       "    }\n",
       "</style>\n",
       "<table border=\"1\" class=\"dataframe\">\n",
       "  <thead>\n",
       "    <tr style=\"text-align: right;\">\n",
       "      <th></th>\n",
       "      <th>Priming</th>\n",
       "      <th>Predict</th>\n",
       "      <th>Right</th>\n",
       "    </tr>\n",
       "    <tr>\n",
       "      <th>Subordinate</th>\n",
       "      <th></th>\n",
       "      <th></th>\n",
       "      <th></th>\n",
       "    </tr>\n",
       "  </thead>\n",
       "  <tbody>\n",
       "    <tr>\n",
       "      <th>Ankle socks is a type of  is a type of  is a type of</th>\n",
       "      <td>Guitar.</td>\n",
       "      <td>Socks.</td>\n",
       "      <td>-1</td>\n",
       "    </tr>\n",
       "    <tr>\n",
       "      <th>Ankle socks is a type of  is a type of  is a type of</th>\n",
       "      <td></td>\n",
       "      <td>Socks.</td>\n",
       "      <td>0</td>\n",
       "    </tr>\n",
       "    <tr>\n",
       "      <th>Ankle socks is a type of  is a type of  is a type of</th>\n",
       "      <td>Socks.</td>\n",
       "      <td>Socks.</td>\n",
       "      <td>1</td>\n",
       "    </tr>\n",
       "    <tr>\n",
       "      <th>Bald eagle is a type of  is a type of  is a type of</th>\n",
       "      <td>Socks.</td>\n",
       "      <td>Eagle.</td>\n",
       "      <td>-1</td>\n",
       "    </tr>\n",
       "    <tr>\n",
       "      <th>Bald eagle is a type of  is a type of  is a type of</th>\n",
       "      <td></td>\n",
       "      <td>Eagle.</td>\n",
       "      <td>0</td>\n",
       "    </tr>\n",
       "  </tbody>\n",
       "</table>\n",
       "</div>"
      ],
      "text/plain": [
       "                                                     Priming  Predict  Right\n",
       "Subordinate                                                                 \n",
       "Ankle socks is a type of  is a type of  is a ty...  Guitar.   Socks.      -1\n",
       "Ankle socks is a type of  is a type of  is a ty...            Socks.       0\n",
       "Ankle socks is a type of  is a type of  is a ty...   Socks.   Socks.       1\n",
       "Bald eagle is a type of  is a type of  is a typ...   Socks.   Eagle.      -1\n",
       "Bald eagle is a type of  is a type of  is a typ...            Eagle.       0"
      ]
     },
     "execution_count": 323,
     "metadata": {},
     "output_type": "execute_result"
    }
   ],
   "source": [
    "entire_super_exp_basic.head()"
   ]
  },
  {
   "cell_type": "code",
   "execution_count": 271,
   "metadata": {},
   "outputs": [],
   "source": [
    "entire_super_exp_basic.to_csv('basic_level.csv')"
   ]
  },
  {
   "cell_type": "code",
   "execution_count": null,
   "metadata": {},
   "outputs": [],
   "source": []
  }
 ],
 "metadata": {
  "kernelspec": {
   "display_name": "Python 3",
   "language": "python",
   "name": "python3"
  },
  "language_info": {
   "codemirror_mode": {
    "name": "ipython",
    "version": 3
   },
   "file_extension": ".py",
   "mimetype": "text/x-python",
   "name": "python",
   "nbconvert_exporter": "python",
   "pygments_lexer": "ipython3",
   "version": "3.11.4"
  },
  "orig_nbformat": 4
 },
 "nbformat": 4,
 "nbformat_minor": 2
}
